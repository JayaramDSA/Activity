{
 "cells": [
  {
   "cell_type": "code",
   "execution_count": 16,
   "id": "059c287f",
   "metadata": {},
   "outputs": [],
   "source": [
    "# ask some questions about animal \n",
    "# get 3 chances for each quetion\n",
    "# correct answer score 1 point\n",
    "# at end show total points"
   ]
  },
  {
   "cell_type": "code",
   "execution_count": null,
   "id": "3b4ceb53",
   "metadata": {},
   "outputs": [],
   "source": [
    "#jayaram k"
   ]
  },
  {
   "cell_type": "code",
   "execution_count": 17,
   "id": "00caa342",
   "metadata": {},
   "outputs": [
    {
     "name": "stdout",
     "output_type": "stream",
     "text": [
      "Animal Quiz..Guess The Animal...\n",
      "There are 5 questions and for each you will get 3 chances..\n",
      "Let's Begin...\n",
      "1. The tallest living animal is:giraffe\n",
      "Correct answer\n",
      "2. The insect which has the largest population on earth is:  wasp\n",
      "Correct answer\n",
      "3. The mammal that lives at the greatest altitude is:tiger\n",
      "Sorry, wrong answer. Try once again.\n",
      "yak \n",
      "Correct answer\n",
      "4. The first animal to go into space was: cat\n",
      "Sorry, wrong answer. Try once again.\n",
      "mouse\n",
      "Sorry, wrong answer. Try once again.\n",
      "rabbit\n",
      "Sorry. The correct answer is Dog\n",
      "5. The only mammal that can fly is: crow\n",
      "Sorry, wrong answer. Try once again.\n",
      "bat\n",
      "Correct answer\n",
      "Your Score is  4 out of 5\n"
     ]
    }
   ],
   "source": [
    "print(\"Animal Quiz..Guess The Animal...\")\n",
    "print(\"There are 5 questions and for each you will get 3 chances..\")\n",
    "print(\"Let's Begin...\") \n",
    "\n",
    "def check_answer(user_ans,right_ans,qn):\n",
    "    points=0\n",
    "    for i in range(0,3):\n",
    "        if user_ans.lower()==right_ans.lower():\n",
    "            print(\"Correct answer\")\n",
    "            points = points+1\n",
    "            break\n",
    "        elif i<2:             \n",
    "            print(\"Sorry, wrong answer. Try once again.\")\n",
    "            user_ans=input()\n",
    "            user_ans = user_ans.strip()\n",
    "        elif i==2:\n",
    "            print(\"Sorry. The correct answer is\",right_ans)\n",
    "            points = points\n",
    "    return points\n",
    "\n",
    "\n",
    "\n",
    "qn_list={\"1. The tallest living animal is:\":'Giraffe',\"2. The insect which has the largest population on earth is: \":'Wasp',\"3. The mammal that lives at the greatest altitude is:\":'Yak',\"4. The first animal to go into space was: \":'Dog',\"5. The only mammal that can fly is: \":'Bat'}\n",
    "\n",
    "total_point=0\n",
    "\n",
    "for qn,an in qn_list.items():\n",
    "    ans=str(input(qn))\n",
    "    total_point=check_answer(ans.strip(),an,qn)+total_point\n",
    "\n",
    "print(\"Your Score is \",total_point,\"out of 5\")"
   ]
  },
  {
   "cell_type": "code",
   "execution_count": null,
   "id": "eac1c520",
   "metadata": {},
   "outputs": [],
   "source": []
  },
  {
   "cell_type": "code",
   "execution_count": null,
   "id": "0a0b4fd6",
   "metadata": {},
   "outputs": [],
   "source": []
  }
 ],
 "metadata": {
  "kernelspec": {
   "display_name": "Python 3 (ipykernel)",
   "language": "python",
   "name": "python3"
  },
  "language_info": {
   "codemirror_mode": {
    "name": "ipython",
    "version": 3
   },
   "file_extension": ".py",
   "mimetype": "text/x-python",
   "name": "python",
   "nbconvert_exporter": "python",
   "pygments_lexer": "ipython3",
   "version": "3.8.8"
  }
 },
 "nbformat": 4,
 "nbformat_minor": 5
}
