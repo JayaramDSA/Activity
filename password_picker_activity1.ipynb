{
 "cells": [
  {
   "cell_type": "code",
   "execution_count": 1,
   "id": "e1f7d745",
   "metadata": {},
   "outputs": [],
   "source": [
    "# code for generating random passwords by Jayaram K"
   ]
  },
  {
   "cell_type": "code",
   "execution_count": 2,
   "id": "c8cbc002",
   "metadata": {},
   "outputs": [
    {
     "name": "stdout",
     "output_type": "stream",
     "text": [
      "Password is: goodweek82@\n",
      "Note: Please Do not share password with anyone!\n"
     ]
    }
   ],
   "source": [
    "import random\n",
    "\n",
    "adj_list = ['able','best','better','clear','easy','full','good','great','high','important','little','long','major','new','real','small','special','right','true','fact']\n",
    "\n",
    "noun_list = ['time','year','thing','day','life','world','part','eye','man','woman','place','case','week','number','work','group','child','government','company','hand']\n",
    "\n",
    "symbol_list = ['!','#','@','%','&','*','?','+','-']\n",
    "\n",
    "adj = random.choice(adj_list)\n",
    "noun = random.choice(noun_list)\n",
    "symbol = random.choice(symbol_list)\n",
    "number = random.randint(0,99)\n",
    "    \n",
    "pwd = adj + noun + str(number) + symbol\n",
    "\n",
    "print(\"Password is:\",pwd)\n",
    "\n",
    "print(\"Note: Please Do not share password with anyone!\")"
   ]
  },
  {
   "cell_type": "code",
   "execution_count": null,
   "id": "06ef1b1f",
   "metadata": {},
   "outputs": [],
   "source": []
  }
 ],
 "metadata": {
  "kernelspec": {
   "display_name": "Python 3 (ipykernel)",
   "language": "python",
   "name": "python3"
  },
  "language_info": {
   "codemirror_mode": {
    "name": "ipython",
    "version": 3
   },
   "file_extension": ".py",
   "mimetype": "text/x-python",
   "name": "python",
   "nbconvert_exporter": "python",
   "pygments_lexer": "ipython3",
   "version": "3.8.8"
  }
 },
 "nbformat": 4,
 "nbformat_minor": 5
}
