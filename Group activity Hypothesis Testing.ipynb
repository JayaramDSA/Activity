{
 "cells": [
  {
   "cell_type": "markdown",
   "id": "1a9a4dc4",
   "metadata": {},
   "source": [
    "# Q&A Activity on Testing of Hypothesis"
   ]
  },
  {
   "cell_type": "markdown",
   "id": "a1f4ec4c",
   "metadata": {},
   "source": [
    "### Submitted by: *Fen Francis Pereira, Jayaram K, Ashmina T.*"
   ]
  },
  {
   "cell_type": "markdown",
   "id": "163774ba",
   "metadata": {},
   "source": [
    "**Objective:** To analyze the dataset containing marks of some students and answer the following:  \n",
    "1. Carry out descriptive analytics on the dataset.\n",
    "2. Check whether female and male students scored the same marks.\n",
    "3. Whether test preparation helps the students?"
   ]
  },
  {
   "cell_type": "code",
   "execution_count": 1,
   "id": "52cf281a",
   "metadata": {},
   "outputs": [],
   "source": [
    "#importing libraries\n",
    "import pandas as pd\n",
    "import numpy as np\n",
    "import seaborn as sns\n",
    "from scipy.stats import ttest_ind"
   ]
  },
  {
   "cell_type": "code",
   "execution_count": 2,
   "id": "807f23e3",
   "metadata": {},
   "outputs": [],
   "source": [
    "#loading the dataset\n",
    "data = pd.read_csv('marks.csv')"
   ]
  },
  {
   "cell_type": "code",
   "execution_count": 3,
   "id": "b1c9c927",
   "metadata": {},
   "outputs": [
    {
     "data": {
      "text/html": [
       "<div>\n",
       "<style scoped>\n",
       "    .dataframe tbody tr th:only-of-type {\n",
       "        vertical-align: middle;\n",
       "    }\n",
       "\n",
       "    .dataframe tbody tr th {\n",
       "        vertical-align: top;\n",
       "    }\n",
       "\n",
       "    .dataframe thead th {\n",
       "        text-align: right;\n",
       "    }\n",
       "</style>\n",
       "<table border=\"1\" class=\"dataframe\">\n",
       "  <thead>\n",
       "    <tr style=\"text-align: right;\">\n",
       "      <th></th>\n",
       "      <th>Gender</th>\n",
       "      <th>Test preparation</th>\n",
       "      <th>Total Marks</th>\n",
       "    </tr>\n",
       "  </thead>\n",
       "  <tbody>\n",
       "    <tr>\n",
       "      <th>0</th>\n",
       "      <td>male</td>\n",
       "      <td>none</td>\n",
       "      <td>14</td>\n",
       "    </tr>\n",
       "    <tr>\n",
       "      <th>1</th>\n",
       "      <td>female</td>\n",
       "      <td>none</td>\n",
       "      <td>28</td>\n",
       "    </tr>\n",
       "    <tr>\n",
       "      <th>2</th>\n",
       "      <td>female</td>\n",
       "      <td>none</td>\n",
       "      <td>18</td>\n",
       "    </tr>\n",
       "    <tr>\n",
       "      <th>3</th>\n",
       "      <td>female</td>\n",
       "      <td>none</td>\n",
       "      <td>48</td>\n",
       "    </tr>\n",
       "    <tr>\n",
       "      <th>4</th>\n",
       "      <td>female</td>\n",
       "      <td>none</td>\n",
       "      <td>21</td>\n",
       "    </tr>\n",
       "  </tbody>\n",
       "</table>\n",
       "</div>"
      ],
      "text/plain": [
       "   Gender Test preparation  Total Marks\n",
       "0    male             none           14\n",
       "1  female             none           28\n",
       "2  female             none           18\n",
       "3  female             none           48\n",
       "4  female             none           21"
      ]
     },
     "execution_count": 3,
     "metadata": {},
     "output_type": "execute_result"
    }
   ],
   "source": [
    "#displaying first 5 rows in the dataset\n",
    "data.head()"
   ]
  },
  {
   "cell_type": "markdown",
   "id": "87f8a028",
   "metadata": {},
   "source": [
    "### 1. Carry out descriptive analytics on the dataset."
   ]
  },
  {
   "cell_type": "code",
   "execution_count": 4,
   "id": "9173db3f",
   "metadata": {},
   "outputs": [
    {
     "data": {
      "text/plain": [
       "Gender              0\n",
       "Test preparation    0\n",
       "Total Marks         0\n",
       "dtype: int64"
      ]
     },
     "execution_count": 4,
     "metadata": {},
     "output_type": "execute_result"
    }
   ],
   "source": [
    "#checking for null values\n",
    "data.isna().sum()"
   ]
  },
  {
   "cell_type": "markdown",
   "id": "a0508707",
   "metadata": {},
   "source": [
    "No null values present, we can use the data for calculations."
   ]
  },
  {
   "cell_type": "code",
   "execution_count": 5,
   "id": "bf277b5d",
   "metadata": {},
   "outputs": [
    {
     "name": "stdout",
     "output_type": "stream",
     "text": [
      "<class 'pandas.core.frame.DataFrame'>\n",
      "RangeIndex: 28 entries, 0 to 27\n",
      "Data columns (total 3 columns):\n",
      " #   Column            Non-Null Count  Dtype \n",
      "---  ------            --------------  ----- \n",
      " 0   Gender            28 non-null     object\n",
      " 1   Test preparation  28 non-null     object\n",
      " 2   Total Marks       28 non-null     int64 \n",
      "dtypes: int64(1), object(2)\n",
      "memory usage: 800.0+ bytes\n"
     ]
    }
   ],
   "source": [
    "data.info()"
   ]
  },
  {
   "cell_type": "code",
   "execution_count": 6,
   "id": "b1f6fb3e",
   "metadata": {},
   "outputs": [
    {
     "data": {
      "text/html": [
       "<div>\n",
       "<style scoped>\n",
       "    .dataframe tbody tr th:only-of-type {\n",
       "        vertical-align: middle;\n",
       "    }\n",
       "\n",
       "    .dataframe tbody tr th {\n",
       "        vertical-align: top;\n",
       "    }\n",
       "\n",
       "    .dataframe thead th {\n",
       "        text-align: right;\n",
       "    }\n",
       "</style>\n",
       "<table border=\"1\" class=\"dataframe\">\n",
       "  <thead>\n",
       "    <tr style=\"text-align: right;\">\n",
       "      <th></th>\n",
       "      <th>Total Marks</th>\n",
       "    </tr>\n",
       "  </thead>\n",
       "  <tbody>\n",
       "    <tr>\n",
       "      <th>count</th>\n",
       "      <td>28.000000</td>\n",
       "    </tr>\n",
       "    <tr>\n",
       "      <th>mean</th>\n",
       "      <td>32.321429</td>\n",
       "    </tr>\n",
       "    <tr>\n",
       "      <th>std</th>\n",
       "      <td>12.454520</td>\n",
       "    </tr>\n",
       "    <tr>\n",
       "      <th>min</th>\n",
       "      <td>12.000000</td>\n",
       "    </tr>\n",
       "    <tr>\n",
       "      <th>25%</th>\n",
       "      <td>22.500000</td>\n",
       "    </tr>\n",
       "    <tr>\n",
       "      <th>50%</th>\n",
       "      <td>33.000000</td>\n",
       "    </tr>\n",
       "    <tr>\n",
       "      <th>75%</th>\n",
       "      <td>43.250000</td>\n",
       "    </tr>\n",
       "    <tr>\n",
       "      <th>max</th>\n",
       "      <td>50.000000</td>\n",
       "    </tr>\n",
       "  </tbody>\n",
       "</table>\n",
       "</div>"
      ],
      "text/plain": [
       "       Total Marks\n",
       "count    28.000000\n",
       "mean     32.321429\n",
       "std      12.454520\n",
       "min      12.000000\n",
       "25%      22.500000\n",
       "50%      33.000000\n",
       "75%      43.250000\n",
       "max      50.000000"
      ]
     },
     "execution_count": 6,
     "metadata": {},
     "output_type": "execute_result"
    }
   ],
   "source": [
    "data.describe()"
   ]
  },
  {
   "cell_type": "markdown",
   "id": "d5bf01a9",
   "metadata": {},
   "source": [
    "Since mean value is closer to median value, the data distribution is normal."
   ]
  },
  {
   "cell_type": "code",
   "execution_count": 7,
   "id": "c8039ee1",
   "metadata": {},
   "outputs": [
    {
     "data": {
      "text/plain": [
       "<AxesSubplot:xlabel='Test preparation', ylabel='count'>"
      ]
     },
     "execution_count": 7,
     "metadata": {},
     "output_type": "execute_result"
    },
    {
     "data": {
      "image/png": "[encoded data removed]",
      "text/plain": [
       "<Figure size 432x288 with 1 Axes>"
      ]
     },
     "metadata": {
      "needs_background": "light"
     },
     "output_type": "display_data"
    }
   ],
   "source": [
    "#countplot\n",
    "sns.countplot(x='Test preparation',data=data,hue='Gender')"
   ]
  },
  {
   "cell_type": "markdown",
   "id": "121298be",
   "metadata": {},
   "source": [
    "### 2. Check whether female and male students scored the same marks."
   ]
  },
  {
   "cell_type": "markdown",
   "id": "536b1f50",
   "metadata": {},
   "source": [
    "#### 2.a. Develop Hypothesis: "
   ]
  },
  {
   "cell_type": "markdown",
   "id": "a11e1e50",
   "metadata": {},
   "source": [
    "**Null hypothesis, H<sub>0</sub>:** Avgrage marks scored by Female and Male are same  \n",
    "**alternative hypothesis, H<sub>a</sub>:** Avgrage marks scored by Female and Male are different(or not equal)  "
   ]
  },
  {
   "cell_type": "markdown",
   "id": "0606360b",
   "metadata": {},
   "source": [
    "#### 2.b.Set significance level"
   ]
  },
  {
   "cell_type": "code",
   "execution_count": 8,
   "id": "d7477c5f",
   "metadata": {},
   "outputs": [],
   "source": [
    "#setting level of significance(alpha) to 0.05\n",
    "alpha = 0.05"
   ]
  },
  {
   "cell_type": "markdown",
   "id": "3c662e0e",
   "metadata": {},
   "source": [
    "#### 2.c. Identify Test Statistic"
   ]
  },
  {
   "cell_type": "code",
   "execution_count": 9,
   "id": "c1d28a8f",
   "metadata": {},
   "outputs": [
    {
     "data": {
      "text/plain": [
       "28"
      ]
     },
     "execution_count": 9,
     "metadata": {},
     "output_type": "execute_result"
    }
   ],
   "source": [
    "data.shape[0]"
   ]
  },
  {
   "cell_type": "markdown",
   "id": "50160890",
   "metadata": {},
   "source": [
    "Here sample size is less than 30. So, we are going to use t-statistic."
   ]
  },
  {
   "cell_type": "code",
   "execution_count": 10,
   "id": "9b98108c",
   "metadata": {},
   "outputs": [],
   "source": [
    "#splitting Total Marks column based on gender\n",
    "male = data.loc[data['Gender']=='male']\n",
    "female = data.loc[data['Gender']=='female']\n",
    "a = female[\"Total Marks\"]\n",
    "b= male[\"Total Marks\"]"
   ]
  },
  {
   "cell_type": "markdown",
   "id": "f01e757f",
   "metadata": {},
   "source": [
    "#### 2.d. Determine p-value"
   ]
  },
  {
   "cell_type": "code",
   "execution_count": 11,
   "id": "155013c7",
   "metadata": {},
   "outputs": [
    {
     "name": "stdout",
     "output_type": "stream",
     "text": [
      "t-score:0.694, p-value:0.494\n"
     ]
    }
   ],
   "source": [
    "t_score,p_value = ttest_ind(a,b)\n",
    "print(\"t-score:%.3f, p-value:%.3f\"%(t_score,p_value))"
   ]
  },
  {
   "cell_type": "markdown",
   "id": "52b829ee",
   "metadata": {},
   "source": [
    "#### 2.e. Comparing p-value and Significance level"
   ]
  },
  {
   "cell_type": "code",
   "execution_count": 12,
   "id": "fae10ed9",
   "metadata": {},
   "outputs": [
    {
     "name": "stdout",
     "output_type": "stream",
     "text": [
      "We accept null hypothesis i.e. Female and Male students scored the same marks\n"
     ]
    }
   ],
   "source": [
    "if p_value < alpha:\n",
    "  print(\"We reject null hypothesis i.e. Female and Male students not scoring the same marks\")\n",
    "else:\n",
    "  print(\"We accept null hypothesis i.e. Female and Male students scored the same marks\")"
   ]
  },
  {
   "cell_type": "markdown",
   "id": "0f8e60b0",
   "metadata": {},
   "source": [
    "There is no significant difference in the marks scored by male and female students"
   ]
  },
  {
   "cell_type": "markdown",
   "id": "ff9e9e73",
   "metadata": {},
   "source": [
    "### 3. Whether test preparation helps the students?"
   ]
  },
  {
   "cell_type": "markdown",
   "id": "3c592692",
   "metadata": {},
   "source": [
    "#### 3.a. Develop Hypothesis"
   ]
  },
  {
   "cell_type": "markdown",
   "id": "e3eea9e6",
   "metadata": {},
   "source": [
    "**Null hypothesis, H<sub>0</sub>:** Average Marks obtained by students who completed Test preparation is greater than or equal to the average marks obtained by students who did not complete Test preparation.  \n",
    "**Alternative hypothesis, H<sub>a</sub>:** Average Marks obtained by students who completed Test preparation is less than the average marks obtained by students who did not complete Test preparation"
   ]
  },
  {
   "cell_type": "markdown",
   "id": "eb3fed94",
   "metadata": {},
   "source": [
    "#### 3.b. Set Significance Level"
   ]
  },
  {
   "cell_type": "code",
   "execution_count": 13,
   "id": "60cc2cc6",
   "metadata": {},
   "outputs": [],
   "source": [
    "# Setting Level of Significance(alpha) to 0.05\n",
    "alpha = 0.05"
   ]
  },
  {
   "cell_type": "markdown",
   "id": "d9cff8b9",
   "metadata": {},
   "source": [
    "#### 3.c. Identify Test Statistic"
   ]
  },
  {
   "cell_type": "markdown",
   "id": "c733254f",
   "metadata": {},
   "source": [
    "As the sample size is less than 30, we use t-statistics."
   ]
  },
  {
   "cell_type": "code",
   "execution_count": 14,
   "id": "388762db",
   "metadata": {},
   "outputs": [],
   "source": [
    "#splitting Total Marks column based on Test preparation completed or not\n",
    "prep_yes = data.loc[data['Test preparation']=='completed']\n",
    "prep_no = data.loc[data['Test preparation']=='none']\n",
    "x = prep_yes['Total Marks']\n",
    "y= prep_no['Total Marks']"
   ]
  },
  {
   "cell_type": "markdown",
   "id": "e19d809d",
   "metadata": {},
   "source": [
    "#### 3.d. Determine p-value"
   ]
  },
  {
   "cell_type": "code",
   "execution_count": 15,
   "id": "22f0316e",
   "metadata": {},
   "outputs": [
    {
     "name": "stdout",
     "output_type": "stream",
     "text": [
      "t-score:3.614, p-value:0.999\n"
     ]
    }
   ],
   "source": [
    "t_score,p_value = ttest_ind(x,y,alternative='less')\n",
    "print(\"t-score:%.3f, p-value:%.3f\"%(t_score,p_value))"
   ]
  },
  {
   "cell_type": "markdown",
   "id": "eabdad9d",
   "metadata": {},
   "source": [
    "#### 3.e. Comparing p-value and Significance level"
   ]
  },
  {
   "cell_type": "code",
   "execution_count": 16,
   "id": "270cec78",
   "metadata": {},
   "outputs": [
    {
     "name": "stdout",
     "output_type": "stream",
     "text": [
      "We accept null hypothesis i.e. Completing the Test preparation increased the average marks of the students\n"
     ]
    }
   ],
   "source": [
    "if p_value <0.05:\n",
    "  print(\"We reject null hypothesis i.e. Test preparation had no effect on the Total Marks obtained.\")\n",
    "else:\n",
    "  print(\"We accept null hypothesis i.e. Completing the Test preparation increased the average marks of the students\")"
   ]
  },
  {
   "cell_type": "code",
   "execution_count": null,
   "id": "00fb3fe9",
   "metadata": {},
   "outputs": [],
   "source": []
  }
 ],
 "metadata": {
  "kernelspec": {
   "display_name": "Python 3 (ipykernel)",
   "language": "python",
   "name": "python3"
  },
  "language_info": {
   "codemirror_mode": {
    "name": "ipython",
    "version": 3
   },
   "file_extension": ".py",
   "mimetype": "text/x-python",
   "name": "python",
   "nbconvert_exporter": "python",
   "pygments_lexer": "ipython3",
   "version": "3.8.12"
  }
 },
 "nbformat": 4,
 "nbformat_minor": 5
}
